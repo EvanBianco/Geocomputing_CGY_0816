{
 "cells": [
  {
   "cell_type": "markdown",
   "metadata": {},
   "source": [
    "# Index"
   ]
  },
  {
   "cell_type": "markdown",
   "metadata": {},
   "source": [
    "## Day 1:\n",
    "* [The Wonderful world of Scientific Python](Course/Day1/Wonderful_World_of_Scientific_Python.ipynb)\n",
    "* [Fundamentals of Programming](Course/Day1/Fundamentals_of_Programming.ipynb)\n",
    "* [Function calling conventions and sorting exercises](Course/Day1/Function_calling_and_sorting.ipynb)\n",
    "* [Intro_to_scientific_computing](Course/Day1/Intro_to_scientific_computing.ipynb)\n",
    "\n",
    "\n",
    "## Day 2:\n",
    "\n",
    "* [Seismics are arrays](Course/Day2/Chapter2/Seismics_are_arrays_questions.ipynb)\n",
    "* [Seismic attributes you can make](Course/Day2/Chapter3/Seismic attributes you can make.ipynb)\n",
    "\n",
    "\n",
    "## Extras:\n",
    "* [Fun with well logs](Demos/fun with logs/Smoothing a spiky well log.ipynb)\n",
    "* [Seismic visualization demo](Demos/seismic viz demo/seismic_MPL_and_vispy.ipynb)\n",
    "\n",
    "## Sandbox for the Jupyter notebook:\n",
    "* [Beats frequencies](Demo/teach me jupyter/Beats.ipynb)\n",
    "* [Fun with topography](Demo/teach me jupyter/Beats.ipynbFun with topography.ipynb)\n",
    "* [Jupyter magic repr](Demo/teach me jupyter/Beats.ipynb/Customizing outputs.ipynb)\n",
    "* [Overview](Demo/teach me jupyter/Introducing Jupyter Notebooks.ipynb)\n",
    "\n",
    "## Resources\n",
    "* Notebooks and blog posts from Agile Geoscience\n",
    "* The Leading Edge tutorial series\n",
    "\n",
    "## Noteworthy code libraries\n",
    "* Pandas: toolkit for labelled and structured data structures\n",
    "* Obspy: for reading / writing SEGY (seismic) files\n",
    "* Welly: for reading  /writing LAS (well logs) files\n",
    "* Shapely, Fiona, GeoPandas, OGR, GDAL: for GIS \n",
    "* Bokeh, Chaco, and PyQT: for UI and widgets\n",
    "* Vispy and Mayavi: for 3D visualization\n",
    "\n",
    "## Open source projects\n",
    "* Bruges\n",
    "* Seisplot\n",
    "* Fatiando e Terra\n",
    "* SimPEGG"
   ]
  },
  {
   "cell_type": "code",
   "execution_count": null,
   "metadata": {
    "collapsed": true
   },
   "outputs": [],
   "source": []
  }
 ],
 "metadata": {
  "kernelspec": {
   "display_name": "Python 3",
   "language": "python",
   "name": "python3"
  },
  "language_info": {
   "codemirror_mode": {
    "name": "ipython",
    "version": 3
   },
   "file_extension": ".py",
   "mimetype": "text/x-python",
   "name": "python",
   "nbconvert_exporter": "python",
   "pygments_lexer": "ipython3",
   "version": "3.5.2"
  }
 },
 "nbformat": 4,
 "nbformat_minor": 0
}
