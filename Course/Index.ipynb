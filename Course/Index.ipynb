{
 "cells": [
  {
   "cell_type": "markdown",
   "metadata": {},
   "source": [
    "# Index"
   ]
  },
  {
   "cell_type": "markdown",
   "metadata": {},
   "source": [
    "Day 1:\n",
    "* [The Wonderful world of Scientific Python](/Day1/Wonderful_World_of_Scientific_Python.ipynb)\n",
    "* [Intro_to_scientific_computing](Day1/Intro_to_scientific_computing.ipynb)\n",
    "* [Fundamentals of Programming](Day1/Fundamental_of_Programming.ipynb)\n",
    "\n",
    "Day 2:\n",
    "* [Chapter 2: Seismic and logs are arrays](Day2/Seismics are arrays.ipynb)\n",
    "* [Chapter 3: Seismic attributes you can make](Day2/Seismic attributes you can make.ipynb)\n",
    "\n",
    "Extras:\n",
    "* [Introducing Jupyter Notebooks](../Demo/teach_me_jupyter/Introducing Jupyter Notebooks.ipynb)\n",
    "* [Beats](../Demo/teach_me_jupyter/Beats.ipynb)\n",
    "* [Fun with topography](../Demo/teach_me_jupyter/Fun with topography.ipynb)\n",
    "* [Jupyter magic repr](../Demo/teach_me_jupyter/Customizing outputs.ipynb)"
   ]
  }
 ],
 "metadata": {
  "kernelspec": {
   "display_name": "Python 3",
   "language": "python",
   "name": "python3"
  },
  "language_info": {
   "codemirror_mode": {
    "name": "ipython",
    "version": 3
   },
   "file_extension": ".py",
   "mimetype": "text/x-python",
   "name": "python",
   "nbconvert_exporter": "python",
   "pygments_lexer": "ipython3",
   "version": "3.5.2"
  }
 },
 "nbformat": 4,
 "nbformat_minor": 0
}
